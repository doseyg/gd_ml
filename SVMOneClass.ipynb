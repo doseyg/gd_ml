{
 "cells": [
  {
   "cell_type": "code",
   "execution_count": 10,
   "metadata": {
    "scrolled": true
   },
   "outputs": [],
   "source": [
    "import pandas as pd\n",
    "import numpy as np\n",
    "import math, json, sys, io"
   ]
  },
  {
   "cell_type": "code",
   "execution_count": 11,
   "metadata": {},
   "outputs": [],
   "source": [
    "example_data = [{'domain':'www.google.com'},{'domain':'outlook.office.com'},{'domain':'fjklbhwqejfb.plufty.io'},{'domain':'www.cnn.com'}]\n",
    "df = pd.DataFrame(example_data)"
   ]
  },
  {
   "cell_type": "code",
   "execution_count": 12,
   "metadata": {},
   "outputs": [],
   "source": [
    "import math\n",
    "from collections import Counter\n",
    " \n",
    "def getEntropy(data):\n",
    "    length = float(len(data))\n",
    "    return -sum(map(lambda x: (x/length)*math.log2(x/length), Counter(data).values()))"
   ]
  },
  {
   "cell_type": "code",
   "execution_count": 21,
   "metadata": {},
   "outputs": [
    {
     "name": "stdout",
     "output_type": "stream",
     "text": [
      "                   domain        tld     subdomain  domain_entropy  \\\n",
      "2  fjklbhwqejfb.plufty.io  plufty.io  fjklbhwqejfb        3.879664   \n",
      "\n",
      "   subdomain_length  in_alexa  \n",
      "2                12     False  \n"
     ]
    },
    {
     "name": "stderr",
     "output_type": "stream",
     "text": [
      "/usr/lib/python3/dist-packages/ipykernel_launcher.py:38: SettingWithCopyWarning: \n",
      "A value is trying to be set on a copy of a slice from a DataFrame.\n",
      "Try using .loc[row_indexer,col_indexer] = value instead\n",
      "\n",
      "See the caveats in the documentation: http://pandas.pydata.org/pandas-docs/stable/user_guide/indexing.html#returning-a-view-versus-a-copy\n"
     ]
    }
   ],
   "source": [
    "import pandas as pd\n",
    "from pandas.io.json import json_normalize\n",
    "from sklearn.model_selection import train_test_split\n",
    "from sklearn import svm, metrics\n",
    "import math \n",
    "from collections import Counter\n",
    "import tldextract\n",
    "import json\n",
    "from flare.tools.alexa import Alexa\n",
    "\n",
    "df = pd.DataFrame(example_data)\n",
    "df.head()\n",
    " \n",
    "#df = get_data_from_elasticsearch()\n",
    "#df = df.rename(columns={'_source.Query':'domain'})\n",
    "#df.head()\n",
    " \n",
    "df['tld'] = df['domain'].apply(tldextract.extract)\n",
    "df['tld'] = df.apply(lambda x: tldextract.extract(x['domain']).registered_domain,axis=1)\n",
    "df['subdomain'] = df.apply(lambda x: tldextract.extract(x['domain']).subdomain,axis=1)\n",
    "df['domain_entropy']=df['domain'].apply(getEntropy)\n",
    "df['subdomain_length']=df['subdomain'].apply(len)\n",
    "#df=df.drop(['_id','_index','_type'],axis=1)\n",
    "df.head()\n",
    " \n",
    "model=svm.OneClassSVM(kernel='linear', gamma=0.001, nu=0.95)\n",
    "model=svm.OneClassSVM(kernel='rbf', gamma=0.00005)\n",
    "data = df[['domain_entropy','subdomain_length']]\n",
    "#print(data.head())\n",
    " \n",
    "model.fit(df[['domain_entropy','subdomain_length']])\n",
    "preds = model.predict(df[['domain_entropy','subdomain_length']])\n",
    "anomalies = df[model.predict(df[['domain_entropy','subdomain_length']]) == 1]\n",
    "#anomalies.shape()\n",
    "#print(preds)\n",
    " \n",
    "alexa=Alexa()\n",
    "anomalies['in_alexa'] = anomalies['tld'].apply(alexa.domain_in_alexa)\n",
    "print(anomalies.loc[anomalies['in_alexa'] == False])\n"
   ]
  }
 ],
 "metadata": {
  "kernelspec": {
   "display_name": "Python 3",
   "language": "python",
   "name": "python3"
  },
  "language_info": {
   "codemirror_mode": {
    "name": "ipython",
    "version": 3
   },
   "file_extension": ".py",
   "mimetype": "text/x-python",
   "name": "python",
   "nbconvert_exporter": "python",
   "pygments_lexer": "ipython3",
   "version": "3.6.8"
  }
 },
 "nbformat": 4,
 "nbformat_minor": 2
}
